{
 "cells": [
  {
   "cell_type": "markdown",
   "metadata": {},
   "source": [
    "# Smart Proxy  library to get random proxy using Python [Hide your Identity]"
   ]
  },
  {
   "cell_type": "code",
   "execution_count": 3,
   "metadata": {},
   "outputs": [
    {
     "data": {
      "image/jpeg": "[encoded data removed]",
      "text/html": [
       "\n",
       "        <iframe\n",
       "            width=\"400\"\n",
       "            height=\"300\"\n",
       "            src=\"https://www.youtube.com/embed/_z4DhRUg2Vs\"\n",
       "            frameborder=\"0\"\n",
       "            allowfullscreen\n",
       "        ></iframe>\n",
       "        "
      ],
      "text/plain": [
       "<IPython.lib.display.YouTubeVideo at 0x107436eb8>"
      ]
     },
     "execution_count": 3,
     "metadata": {},
     "output_type": "execute_result"
    }
   ],
   "source": [
    "from IPython.display import YouTubeVideo\n",
    "YouTubeVideo('_z4DhRUg2Vs')"
   ]
  },
  {
   "cell_type": "markdown",
   "metadata": {},
   "source": [
    "Article By \n",
    "\n",
    "Soumil Nitin Shah\n",
    "\n",
    "Bachelor in Electronic Engineering\n",
    "Master in Electrical Engineering \n",
    "Master in Computer Engineering \n",
    "\n",
    "Graduate Teaching/Research Assistant\n",
    "\n",
    "Python Developer\n",
    "\n",
    "soushah@my.bridgeport.edu\n",
    "\n",
    "————————————————————————————————————\n",
    "\n",
    "Blog\n",
    "http://soumilshah1995.blogspot.com\n",
    "\n",
    "Linkedin:\thttps://www.linkedin.com/in/shah-soumil\n",
    "\n",
    "Github\n",
    "https://github.com/soumilshah1995\n",
    "\n",
    "Youtube channel\n",
    "https://www.youtube.com/channel/UC_eOodxvwS_H7x2uLQa-svw\n",
    "\n",
    "------------------------------------"
   ]
  },
  {
   "cell_type": "markdown",
   "metadata": {},
   "source": [
    "# Objective:"
   ]
  },
  {
   "cell_type": "markdown",
   "metadata": {},
   "source": [
    "Whenever you are doing webscrapping on any website its important that you  hide your identity. other  wise server might block you. Getting Proxy can be tough and also sometime costly. in this i have made a smart library with just 4 lines of code you can get any random IP Address and port number so you can use them when you are doing webscrapping"
   ]
  },
  {
   "cell_type": "markdown",
   "metadata": {},
   "source": [
    "## important Note:"
   ]
  },
  {
   "cell_type": "markdown",
   "metadata": {},
   "source": [
    "Assume your name of your python file is main and the code that i am about to show you is the library developed to do job in 3 lines of code.\n",
    "Paster the Entire python code in your File called main and all way down start writing your code"
   ]
  },
  {
   "cell_type": "markdown",
   "metadata": {},
   "source": [
    "copy the library ie python file in your working Directory and you can simple say from nameofpythonfile import *"
   ]
  },
  {
   "cell_type": "markdown",
   "metadata": {},
   "source": [
    "## Assume your Work Directory is \n",
    "\n",
    "Foldername ---- IoTclass\n",
    "\n",
    "                        > main.py\n",
    "                        \n",
    "                        > nameoffile.py\n",
    "                        \n",
    "                    "
   ]
  },
  {
   "cell_type": "markdown",
   "metadata": {},
   "source": [
    "in your main Python File you will say from nameoffile import *\n",
    "\n",
    "if that dosent work for some reason you can also copy entire 500 Line of library code in main.py and all the way down start writing your code "
   ]
  },
  {
   "cell_type": "markdown",
   "metadata": {},
   "source": [
    "### How to use "
   ]
  },
  {
   "cell_type": "code",
   "execution_count": 2,
   "metadata": {},
   "outputs": [
    {
     "name": "stdout",
     "output_type": "stream",
     "text": [
      "Using Proxy {'https': '109.70.189.70:30480'}\n",
      "Using Proxy {'https': '109.101.139.126:59254'}\n",
      "Using Proxy {'https': '45.71.80.34:46505'}\n",
      "Using Proxy {'https': '186.42.175.138:47601'}\n",
      "Using Proxy {'https': '31.42.173.57:34639'}\n",
      "Using Proxy {'https': '37.59.35.174:8080'}\n",
      "Using Proxy {'https': '202.166.211.182:61767'}\n",
      "<Response [200]>\n"
     ]
    }
   ],
   "source": [
    "\n",
    "# Create a class\n",
    "proxy = Random_Proxy()\n",
    "\n",
    "url = 'https://www.youtube.com'\n",
    "request_type = \"get\"\n",
    "\n",
    "r = proxy.Proxy_Request(url=url, request_type=request_type)\n",
    "print(r)"
   ]
  },
  {
   "cell_type": "markdown",
   "metadata": {},
   "source": [
    "# Here you see it tried Different Proxy which ever was working we used that IP and got Response 200"
   ]
  },
  {
   "cell_type": "markdown",
   "metadata": {},
   "source": [
    "# The Library "
   ]
  },
  {
   "cell_type": "code",
   "execution_count": 1,
   "metadata": {},
   "outputs": [],
   "source": [
    "try:\n",
    "\n",
    "    import requests\n",
    "    from bs4 import BeautifulSoup\n",
    "    import random\n",
    "\n",
    "except:\n",
    "    print(\" Library Not Found !\")\n",
    "\n",
    "\n",
    "class Random_Proxy(object):\n",
    "\n",
    "    def __init__(self):\n",
    "        self.__url = 'https://www.sslproxies.org/'\n",
    "        self.__headers = {\n",
    "            'Accept-Encoding': 'gzip, deflate, sdch',\n",
    "            'Accept-Language': 'en-US,en;q=0.8',\n",
    "            'User-Agent': 'Mozilla/5.0 (Macintosh; Intel Mac OS X 10_10_1) AppleWebKit/537.36 (KHTML, like Gecko) Chrome/39.0.2171.95 Safari/537.36',\n",
    "            'Accept': 'text/html,application/xhtml+xml,application/xml;q=0.9,image/webp,*/*;q=0.8',\n",
    "            'Referer': 'http://www.wikipedia.org/',\n",
    "            'Connection': 'keep-alive',\n",
    "            }\n",
    "        self.random_ip = []\n",
    "        self.random_port = []\n",
    "\n",
    "    def __random_proxy(self):\n",
    "\n",
    "        \"\"\"\n",
    "        This is Private Function Client Should not have accesss\n",
    "        :return: Dictionary object of Random proxy and port number\n",
    "        \"\"\"\n",
    "\n",
    "        r = requests.get(url=self.__url, headers=self.__headers)\n",
    "        soup = BeautifulSoup(r.text, 'html.parser')\n",
    "\n",
    "        # Get the Random IP Address\n",
    "        for x in soup.findAll('td')[::8]:\n",
    "            self.random_ip.append(x.get_text())\n",
    "\n",
    "        # Get Their Port\n",
    "        for y in soup.findAll('td')[1::8]:\n",
    "            self.random_port.append(y.get_text())\n",
    "\n",
    "        # Zip together\n",
    "        z = list(zip(self.random_ip, self.random_port))\n",
    "\n",
    "        # This will Fetch Random IP Address and corresponding PORT Number\n",
    "        number = random.randint(0, len(z)-50)\n",
    "        ip_random = z[number]\n",
    "\n",
    "        # convert Tuple into String and formart IP and PORT Address\n",
    "        ip_random_string = \"{}:{}\".format(ip_random[0],ip_random[1])\n",
    "\n",
    "        # Create a Proxy\n",
    "        proxy = {'https':ip_random_string}\n",
    "\n",
    "        # return Proxy\n",
    "        return proxy\n",
    "\n",
    "    def Proxy_Request(self,request_type='get',url='',**kwargs):\n",
    "        \"\"\"\n",
    "\n",
    "        :param request_type: GET, POST, PUT\n",
    "        :param url: URL from which you want to do webscrapping\n",
    "        :param kwargs: any other parameter you pass\n",
    "        :return: Return Response\n",
    "        \"\"\"\n",
    "        while True:\n",
    "            try:\n",
    "                proxy = self.__random_proxy()\n",
    "                print(\"Using Proxy {}\".format(proxy))\n",
    "                r = requests.request(request_type,url,proxies=proxy,headers=self.__headers ,timeout=8, **kwargs)\n",
    "                return r\n",
    "                break\n",
    "            except:\n",
    "                pass\n"
   ]
  }
 ],
 "metadata": {
  "kernelspec": {
   "display_name": "Python 3",
   "language": "python",
   "name": "python3"
  },
  "language_info": {
   "codemirror_mode": {
    "name": "ipython",
    "version": 3
   },
   "file_extension": ".py",
   "mimetype": "text/x-python",
   "name": "python",
   "nbconvert_exporter": "python",
   "pygments_lexer": "ipython3",
   "version": "3.7.3"
  }
 },
 "nbformat": 4,
 "nbformat_minor": 2
}
